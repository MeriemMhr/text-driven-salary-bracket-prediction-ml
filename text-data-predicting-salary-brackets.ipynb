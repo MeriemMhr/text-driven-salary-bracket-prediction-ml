{
 "cells": [
  {
   "cell_type": "markdown",
   "id": "39d270a0",
   "metadata": {
    "id": "39d270a0"
   },
   "source": [
    "### *Text-Driven Salary Bracket Prediction with ML & Text Analytics*"
   ]
  },
  {
   "cell_type": "markdown",
   "id": "0a92f5a3",
   "metadata": {
    "id": "0a92f5a3"
   },
   "source": [
    "This assignment involves building and testing classification models to predict salaries from the text contained in the job descriptions. The data for this assignment can be found at http://www.kaggle.com/c/job-salary-prediction\n",
    "\n",
    "* Randomly select 2500 data points from the training dataset (“Train_rev1.csv”) for ease of analysis. Then split the 2500 data points into training (80%) and test (20%) sets.\n",
    "* You will create classification models to predict high (75th percentile and above) or low (below 75th percentile) salary from the text contained in the job descriptions.\n",
    "* Use the Naïve Bayes classifier."
   ]
  },
  {
   "cell_type": "markdown",
   "id": "90f1acd8",
   "metadata": {
    "id": "90f1acd8"
   },
   "source": [
    "**Question 1:**\n",
    "\n",
    "* Build a classification model with text (full job description) as the predictor. What is the accuracy of your model? Show the confusion matrix. Also show the top 10 words (excluding stopwords) that are most indicative of (i) high salary, and (ii) low salary.\n",
    "\n",
    "**Question 2:**\n",
    "\n",
    "* If you wanted to increase the accuracy of the model above, how can you accomplish this using the dataset you have?"
   ]
  },
  {
   "cell_type": "markdown",
   "id": "b3c1f09a",
   "metadata": {
    "id": "b3c1f09a"
   },
   "source": [
    "#### Importing Relevant Libraries"
   ]
  },
  {
   "cell_type": "code",
   "execution_count": null,
   "id": "1377e51b",
   "metadata": {
    "id": "1377e51b"
   },
   "outputs": [],
   "source": [
    "import numpy as np\n",
    "import pandas as pd\n",
    "import seaborn as sns\n",
    "import matplotlib.pyplot as plt\n",
    "import time\n",
    "import sys\n",
    "import re\n",
    "import gc\n",
    "from sklearn.model_selection import StratifiedShuffleSplit"
   ]
  },
  {
   "cell_type": "code",
   "execution_count": null,
   "id": "cad58ed3",
   "metadata": {
    "id": "cad58ed3"
   },
   "outputs": [],
   "source": [
    "from sklearn.model_selection import train_test_split\n",
    "from sklearn.linear_model import LogisticRegression\n",
    "from sklearn.metrics import classification_report, confusion_matrix\n",
    "from sklearn.metrics import classification_report, confusion_matrix, ConfusionMatrixDisplay"
   ]
  },
  {
   "cell_type": "code",
   "execution_count": null,
   "id": "694c0cc4",
   "metadata": {
    "id": "694c0cc4"
   },
   "outputs": [],
   "source": [
    "import nltk\n",
    "from sklearn.feature_extraction.text import TfidfVectorizer\n",
    "from sklearn.feature_extraction.text import CountVectorizer\n",
    "from sklearn.pipeline import make_pipeline\n",
    "from sklearn.naive_bayes import MultinomialNB\n",
    "from nltk.tokenize import RegexpTokenizer\n",
    "from nltk.stem import WordNetLemmatizer,PorterStemmer\n",
    "from nltk.corpus import stopwords\n",
    "from nltk.stem import PorterStemmer\n",
    "from nltk.tokenize import word_tokenize"
   ]
  },
  {
   "cell_type": "markdown",
   "id": "ad65c4ea",
   "metadata": {
    "id": "ad65c4ea"
   },
   "source": [
    "#### Loading the Data"
   ]
  },
  {
   "cell_type": "code",
   "execution_count": null,
   "id": "44b4d2a2",
   "metadata": {
    "id": "44b4d2a2",
    "outputId": "a334c4d2-82dd-49c0-dca4-b727200294f1"
   },
   "outputs": [
    {
     "data": {
      "text/html": [
       "<div>\n",
       "<style scoped>\n",
       "    .dataframe tbody tr th:only-of-type {\n",
       "        vertical-align: middle;\n",
       "    }\n",
       "\n",
       "    .dataframe tbody tr th {\n",
       "        vertical-align: top;\n",
       "    }\n",
       "\n",
       "    .dataframe thead th {\n",
       "        text-align: right;\n",
       "    }\n",
       "</style>\n",
       "<table border=\"1\" class=\"dataframe\">\n",
       "  <thead>\n",
       "    <tr style=\"text-align: right;\">\n",
       "      <th></th>\n",
       "      <th>Id</th>\n",
       "      <th>Title</th>\n",
       "      <th>FullDescription</th>\n",
       "      <th>LocationRaw</th>\n",
       "      <th>LocationNormalized</th>\n",
       "      <th>ContractType</th>\n",
       "      <th>ContractTime</th>\n",
       "      <th>Company</th>\n",
       "      <th>Category</th>\n",
       "      <th>SalaryRaw</th>\n",
       "      <th>SalaryNormalized</th>\n",
       "      <th>SourceName</th>\n",
       "    </tr>\n",
       "  </thead>\n",
       "  <tbody>\n",
       "    <tr>\n",
       "      <th>30390</th>\n",
       "      <td>68062598</td>\n",
       "      <td>Business Account Manager</td>\n",
       "      <td>Business Account Manager  Plumbing Heating Pro...</td>\n",
       "      <td>South West</td>\n",
       "      <td>South West London</td>\n",
       "      <td>NaN</td>\n",
       "      <td>permanent</td>\n",
       "      <td>BMS Sales Specialists</td>\n",
       "      <td>Sales Jobs</td>\n",
       "      <td>22000 - 25000 per annum + Car,Mobile,Pension,L...</td>\n",
       "      <td>23500</td>\n",
       "      <td>totaljobs.com</td>\n",
       "    </tr>\n",
       "    <tr>\n",
       "      <th>108709</th>\n",
       "      <td>69622111</td>\n",
       "      <td>Staff Nurse RGN/RMN  Newtown Abbey  Nights  Ne...</td>\n",
       "      <td>Job Title; Staff Nurse RGN/RMN – NightsLocatio...</td>\n",
       "      <td>Newtownabbey</td>\n",
       "      <td>Newtownabbey</td>\n",
       "      <td>full_time</td>\n",
       "      <td>NaN</td>\n",
       "      <td>Regional Recruitment Services</td>\n",
       "      <td>Healthcare &amp; Nursing Jobs</td>\n",
       "      <td>12.00/Hour</td>\n",
       "      <td>23040</td>\n",
       "      <td>staffnurse.com</td>\n",
       "    </tr>\n",
       "    <tr>\n",
       "      <th>13924</th>\n",
       "      <td>66664026</td>\n",
       "      <td>Community Fundraising Manager</td>\n",
       "      <td>This dynamic international development charity...</td>\n",
       "      <td>London</td>\n",
       "      <td>London</td>\n",
       "      <td>full_time</td>\n",
       "      <td>permanent</td>\n",
       "      <td>TPP Not for Profit</td>\n",
       "      <td>Charity &amp; Voluntary Jobs</td>\n",
       "      <td>33300 - 36400 per annum</td>\n",
       "      <td>34850</td>\n",
       "      <td>Third Sector Jobs</td>\n",
       "    </tr>\n",
       "    <tr>\n",
       "      <th>154606</th>\n",
       "      <td>71015241</td>\n",
       "      <td>Conveyancing Executive</td>\n",
       "      <td>Large regional law firm require a residential ...</td>\n",
       "      <td>Hampshire</td>\n",
       "      <td>Hampshire</td>\n",
       "      <td>full_time</td>\n",
       "      <td>permanent</td>\n",
       "      <td>PTP Consulting</td>\n",
       "      <td>Legal Jobs</td>\n",
       "      <td>From 18,000 to 27,000 per year</td>\n",
       "      <td>22500</td>\n",
       "      <td>TotallyLegal</td>\n",
       "    </tr>\n",
       "    <tr>\n",
       "      <th>172891</th>\n",
       "      <td>71428553</td>\n",
       "      <td>Investment Compliance Analyst</td>\n",
       "      <td>This individual will work closely with the bus...</td>\n",
       "      <td>London South East</td>\n",
       "      <td>South East London</td>\n",
       "      <td>NaN</td>\n",
       "      <td>permanent</td>\n",
       "      <td>Michael Page Financial Services</td>\n",
       "      <td>Accounting &amp; Finance Jobs</td>\n",
       "      <td>50000 to 60000 per annum</td>\n",
       "      <td>55000</td>\n",
       "      <td>totaljobs.com</td>\n",
       "    </tr>\n",
       "  </tbody>\n",
       "</table>\n",
       "</div>"
      ],
      "text/plain": [
       "              Id                                              Title  \\\n",
       "30390   68062598                           Business Account Manager   \n",
       "108709  69622111  Staff Nurse RGN/RMN  Newtown Abbey  Nights  Ne...   \n",
       "13924   66664026                      Community Fundraising Manager   \n",
       "154606  71015241                             Conveyancing Executive   \n",
       "172891  71428553                      Investment Compliance Analyst   \n",
       "\n",
       "                                          FullDescription        LocationRaw  \\\n",
       "30390   Business Account Manager  Plumbing Heating Pro...         South West   \n",
       "108709  Job Title; Staff Nurse RGN/RMN – NightsLocatio...       Newtownabbey   \n",
       "13924   This dynamic international development charity...             London   \n",
       "154606  Large regional law firm require a residential ...          Hampshire   \n",
       "172891  This individual will work closely with the bus...  London South East   \n",
       "\n",
       "       LocationNormalized ContractType ContractTime  \\\n",
       "30390   South West London          NaN    permanent   \n",
       "108709       Newtownabbey    full_time          NaN   \n",
       "13924              London    full_time    permanent   \n",
       "154606          Hampshire    full_time    permanent   \n",
       "172891  South East London          NaN    permanent   \n",
       "\n",
       "                                Company                   Category  \\\n",
       "30390             BMS Sales Specialists                 Sales Jobs   \n",
       "108709    Regional Recruitment Services  Healthcare & Nursing Jobs   \n",
       "13924                TPP Not for Profit   Charity & Voluntary Jobs   \n",
       "154606                   PTP Consulting                 Legal Jobs   \n",
       "172891  Michael Page Financial Services  Accounting & Finance Jobs   \n",
       "\n",
       "                                                SalaryRaw  SalaryNormalized  \\\n",
       "30390   22000 - 25000 per annum + Car,Mobile,Pension,L...             23500   \n",
       "108709                                         12.00/Hour             23040   \n",
       "13924                             33300 - 36400 per annum             34850   \n",
       "154606                     From 18,000 to 27,000 per year             22500   \n",
       "172891                           50000 to 60000 per annum             55000   \n",
       "\n",
       "               SourceName  \n",
       "30390       totaljobs.com  \n",
       "108709     staffnurse.com  \n",
       "13924   Third Sector Jobs  \n",
       "154606       TotallyLegal  \n",
       "172891      totaljobs.com  "
      ]
     },
     "execution_count": 6,
     "metadata": {},
     "output_type": "execute_result"
    }
   ],
   "source": [
    "data = pd.read_csv(\"C:/Users/mehri/Downloads/Train_rev1.csv\")\n",
    "data = data.sample(2500, random_state = 42) # Randomly selecting 2500 samples from data\n",
    "data.head()"
   ]
  },
  {
   "cell_type": "code",
   "execution_count": null,
   "id": "6315f914",
   "metadata": {
    "id": "6315f914",
    "outputId": "ad82be51-9670-4afd-b6cf-68775923605d",
    "scrolled": false
   },
   "outputs": [
    {
     "data": {
      "text/html": [
       "<div>\n",
       "<style scoped>\n",
       "    .dataframe tbody tr th:only-of-type {\n",
       "        vertical-align: middle;\n",
       "    }\n",
       "\n",
       "    .dataframe tbody tr th {\n",
       "        vertical-align: top;\n",
       "    }\n",
       "\n",
       "    .dataframe thead th {\n",
       "        text-align: right;\n",
       "    }\n",
       "</style>\n",
       "<table border=\"1\" class=\"dataframe\">\n",
       "  <thead>\n",
       "    <tr style=\"text-align: right;\">\n",
       "      <th></th>\n",
       "      <th>Id</th>\n",
       "      <th>Title</th>\n",
       "      <th>FullDescription</th>\n",
       "      <th>LocationRaw</th>\n",
       "      <th>LocationNormalized</th>\n",
       "      <th>ContractType</th>\n",
       "      <th>ContractTime</th>\n",
       "      <th>Company</th>\n",
       "      <th>Category</th>\n",
       "      <th>SalaryRaw</th>\n",
       "      <th>SalaryNormalized</th>\n",
       "      <th>SourceName</th>\n",
       "      <th>Percentile</th>\n",
       "      <th>Target</th>\n",
       "    </tr>\n",
       "  </thead>\n",
       "  <tbody>\n",
       "    <tr>\n",
       "      <th>30390</th>\n",
       "      <td>68062598</td>\n",
       "      <td>Business Account Manager</td>\n",
       "      <td>Business Account Manager  Plumbing Heating Pro...</td>\n",
       "      <td>South West</td>\n",
       "      <td>South West London</td>\n",
       "      <td>NaN</td>\n",
       "      <td>permanent</td>\n",
       "      <td>BMS Sales Specialists</td>\n",
       "      <td>Sales Jobs</td>\n",
       "      <td>22000 - 25000 per annum + Car,Mobile,Pension,L...</td>\n",
       "      <td>23500</td>\n",
       "      <td>totaljobs.com</td>\n",
       "      <td>0.3166</td>\n",
       "      <td>Below</td>\n",
       "    </tr>\n",
       "    <tr>\n",
       "      <th>108709</th>\n",
       "      <td>69622111</td>\n",
       "      <td>Staff Nurse RGN/RMN  Newtown Abbey  Nights  Ne...</td>\n",
       "      <td>Job Title; Staff Nurse RGN/RMN – NightsLocatio...</td>\n",
       "      <td>Newtownabbey</td>\n",
       "      <td>Newtownabbey</td>\n",
       "      <td>full_time</td>\n",
       "      <td>NaN</td>\n",
       "      <td>Regional Recruitment Services</td>\n",
       "      <td>Healthcare &amp; Nursing Jobs</td>\n",
       "      <td>12.00/Hour</td>\n",
       "      <td>23040</td>\n",
       "      <td>staffnurse.com</td>\n",
       "      <td>0.3094</td>\n",
       "      <td>Below</td>\n",
       "    </tr>\n",
       "    <tr>\n",
       "      <th>13924</th>\n",
       "      <td>66664026</td>\n",
       "      <td>Community Fundraising Manager</td>\n",
       "      <td>This dynamic international development charity...</td>\n",
       "      <td>London</td>\n",
       "      <td>London</td>\n",
       "      <td>full_time</td>\n",
       "      <td>permanent</td>\n",
       "      <td>TPP Not for Profit</td>\n",
       "      <td>Charity &amp; Voluntary Jobs</td>\n",
       "      <td>33300 - 36400 per annum</td>\n",
       "      <td>34850</td>\n",
       "      <td>Third Sector Jobs</td>\n",
       "      <td>0.5944</td>\n",
       "      <td>Below</td>\n",
       "    </tr>\n",
       "    <tr>\n",
       "      <th>154606</th>\n",
       "      <td>71015241</td>\n",
       "      <td>Conveyancing Executive</td>\n",
       "      <td>Large regional law firm require a residential ...</td>\n",
       "      <td>Hampshire</td>\n",
       "      <td>Hampshire</td>\n",
       "      <td>full_time</td>\n",
       "      <td>permanent</td>\n",
       "      <td>PTP Consulting</td>\n",
       "      <td>Legal Jobs</td>\n",
       "      <td>From 18,000 to 27,000 per year</td>\n",
       "      <td>22500</td>\n",
       "      <td>TotallyLegal</td>\n",
       "      <td>0.2882</td>\n",
       "      <td>Below</td>\n",
       "    </tr>\n",
       "    <tr>\n",
       "      <th>172891</th>\n",
       "      <td>71428553</td>\n",
       "      <td>Investment Compliance Analyst</td>\n",
       "      <td>This individual will work closely with the bus...</td>\n",
       "      <td>London South East</td>\n",
       "      <td>South East London</td>\n",
       "      <td>NaN</td>\n",
       "      <td>permanent</td>\n",
       "      <td>Michael Page Financial Services</td>\n",
       "      <td>Accounting &amp; Finance Jobs</td>\n",
       "      <td>50000 to 60000 per annum</td>\n",
       "      <td>55000</td>\n",
       "      <td>totaljobs.com</td>\n",
       "      <td>0.8908</td>\n",
       "      <td>Above</td>\n",
       "    </tr>\n",
       "  </tbody>\n",
       "</table>\n",
       "</div>"
      ],
      "text/plain": [
       "              Id                                              Title  \\\n",
       "30390   68062598                           Business Account Manager   \n",
       "108709  69622111  Staff Nurse RGN/RMN  Newtown Abbey  Nights  Ne...   \n",
       "13924   66664026                      Community Fundraising Manager   \n",
       "154606  71015241                             Conveyancing Executive   \n",
       "172891  71428553                      Investment Compliance Analyst   \n",
       "\n",
       "                                          FullDescription        LocationRaw  \\\n",
       "30390   Business Account Manager  Plumbing Heating Pro...         South West   \n",
       "108709  Job Title; Staff Nurse RGN/RMN – NightsLocatio...       Newtownabbey   \n",
       "13924   This dynamic international development charity...             London   \n",
       "154606  Large regional law firm require a residential ...          Hampshire   \n",
       "172891  This individual will work closely with the bus...  London South East   \n",
       "\n",
       "       LocationNormalized ContractType ContractTime  \\\n",
       "30390   South West London          NaN    permanent   \n",
       "108709       Newtownabbey    full_time          NaN   \n",
       "13924              London    full_time    permanent   \n",
       "154606          Hampshire    full_time    permanent   \n",
       "172891  South East London          NaN    permanent   \n",
       "\n",
       "                                Company                   Category  \\\n",
       "30390             BMS Sales Specialists                 Sales Jobs   \n",
       "108709    Regional Recruitment Services  Healthcare & Nursing Jobs   \n",
       "13924                TPP Not for Profit   Charity & Voluntary Jobs   \n",
       "154606                   PTP Consulting                 Legal Jobs   \n",
       "172891  Michael Page Financial Services  Accounting & Finance Jobs   \n",
       "\n",
       "                                                SalaryRaw  SalaryNormalized  \\\n",
       "30390   22000 - 25000 per annum + Car,Mobile,Pension,L...             23500   \n",
       "108709                                         12.00/Hour             23040   \n",
       "13924                             33300 - 36400 per annum             34850   \n",
       "154606                     From 18,000 to 27,000 per year             22500   \n",
       "172891                           50000 to 60000 per annum             55000   \n",
       "\n",
       "               SourceName  Percentile Target  \n",
       "30390       totaljobs.com      0.3166  Below  \n",
       "108709     staffnurse.com      0.3094  Below  \n",
       "13924   Third Sector Jobs      0.5944  Below  \n",
       "154606       TotallyLegal      0.2882  Below  \n",
       "172891      totaljobs.com      0.8908  Above  "
      ]
     },
     "execution_count": 7,
     "metadata": {},
     "output_type": "execute_result"
    }
   ],
   "source": [
    "# Assigning whether we are above or below 75th Percentile\n",
    "data['Percentile'] = data['SalaryNormalized'].rank(pct = True)\n",
    "data.loc[data['Percentile'] > 0.75, 'Target'] = 'Above'\n",
    "data.loc[data['Percentile'] < 0.75, 'Target'] = 'Below'\n",
    "data.head()"
   ]
  },
  {
   "cell_type": "code",
   "execution_count": null,
   "id": "d8a17c4e",
   "metadata": {
    "id": "d8a17c4e",
    "outputId": "36dd3655-8f9b-4002-89ae-d29d28e148e3"
   },
   "outputs": [
    {
     "name": "stderr",
     "output_type": "stream",
     "text": [
      "[nltk_data] Downloading package stopwords to\n",
      "[nltk_data]     C:\\Users\\mehri\\AppData\\Roaming\\nltk_data...\n",
      "[nltk_data]   Unzipping corpora\\stopwords.zip.\n"
     ]
    },
    {
     "data": {
      "text/plain": [
       "True"
      ]
     },
     "execution_count": 11,
     "metadata": {},
     "output_type": "execute_result"
    }
   ],
   "source": [
    "nltk.download('stopwords')"
   ]
  },
  {
   "cell_type": "markdown",
   "id": "30615bc6",
   "metadata": {
    "id": "30615bc6"
   },
   "source": [
    "### I. Constructing a Text-Based Classification Model Using \"FullDescription\" as a Predictor"
   ]
  },
  {
   "cell_type": "markdown",
   "id": "2af2a3bc",
   "metadata": {
    "id": "2af2a3bc"
   },
   "source": [
    "A Naïve Bayes classifier was trained using job descriptions to predict salary categories (high or low). The job description text data was preprocessed by tokenizing, removing stopwords, and stemming before being vectorized using TF-IDF (Term Frequency-Inverse Document Frequency)."
   ]
  },
  {
   "cell_type": "markdown",
   "id": "f217fe2f",
   "metadata": {
    "id": "f217fe2f"
   },
   "source": [
    "**Model Accuracy & Confusion Matrix:**\n",
    "\n",
    "The model's accuracy on the test set is approximately 74.2%, as indicated by the output Accuracy: 0.742. The confusion matrix displayed suggests that while the model is quite good at predicting low salaries (with a true positive rate of 371), it failed to predict high salaries correctly (0 true positives for high salary)."
   ]
  },
  {
   "cell_type": "markdown",
   "id": "19460d3c",
   "metadata": {
    "id": "19460d3c"
   },
   "source": [
    "**Top 10 Words Indicative of High and Low Salary:**\n",
    "\n",
    "* The top 10 words most indicative of a high salary, excluding stopwords, are: 'design', 'engine', 'client', 'team', 'work', 'experi', 'busi', 'project', 'develop', and 'manag'.\n",
    "* The top 10 words most indicative of a low salary are: 'busi', 'custom', 'client', 'servic', 'role', 'develop', 'experi', 'sale', 'work', and 'manag'.\n",
    "\n",
    "These words provide insight into the language used in job descriptions that correlate with salary levels. It's important to note that some words appear in both lists, which could be due to different contexts in which they are used or the presence of other words in the job descriptions that when combined with these can indicate salary levels."
   ]
  },
  {
   "cell_type": "markdown",
   "id": "8cd2a94e",
   "metadata": {
    "id": "8cd2a94e"
   },
   "source": [
    "**Classification Report:**\n",
    "\n",
    "The classification report shows a precision of 0.74 and recall of 1.00 for the 'Low Salary' class, indicating that the model is consistent in predicting low salaries but at the cost of not predicting high salaries at all, which is evident from the 0.00 precision and recall for the 'High Salary' class.\n",
    "\n",
    "* From the confusion matrix visualization and classification report below, it is clear that the model is biased towards predicting the majority class (low salary). This could be due to an imbalance in the dataset, where there are more low salary examples than high salary ones. We might consider techniques to balance the dataset or use different performance metrics that take the class imbalance into account, such as the F1-score or the area under the receiver operating characteristic curve (AUC-ROC).\n",
    "\n",
    "* Additionally, the words 'experi' and 'busi' seem to be stemmed forms of 'experience' and 'business'. The stemming process reduces words to their root form, which sometimes might not represent an actual word. It's important to consider the impact of stemming on the interpretation of the most indicative words. More advanced techniques like lemmatization could provide better results as they reduce words to their dictionary forms.\n",
    "\n",
    "---\n",
    "Lastly, to improve the model's ability to predict high salary postings, we might want to explore more complex models, feature engineering, or even deep learning techniques if the dataset is sufficiently large (*Refer to Question 2*)."
   ]
  },
  {
   "cell_type": "markdown",
   "id": "a707637f",
   "metadata": {
    "id": "a707637f"
   },
   "source": [
    "#### Classification Model"
   ]
  },
  {
   "cell_type": "code",
   "execution_count": null,
   "id": "ec0c92d8",
   "metadata": {
    "id": "ec0c92d8",
    "outputId": "ded77bd1-0098-4879-e46c-b1db17f8a4a6",
    "scrolled": false
   },
   "outputs": [
    {
     "name": "stderr",
     "output_type": "stream",
     "text": [
      "[nltk_data] Downloading package stopwords to\n",
      "[nltk_data]     C:\\Users\\mehri\\AppData\\Roaming\\nltk_data...\n",
      "[nltk_data]   Package stopwords is already up-to-date!\n",
      "[nltk_data] Downloading package punkt to\n",
      "[nltk_data]     C:\\Users\\mehri\\AppData\\Roaming\\nltk_data...\n",
      "[nltk_data]   Unzipping tokenizers\\punkt.zip.\n"
     ]
    }
   ],
   "source": [
    "# Download necessary NLTK resources\n",
    "nltk.download('stopwords')\n",
    "nltk.download('punkt')\n",
    "\n",
    "stemmer = PorterStemmer()\n",
    "stop_words = set(stopwords.words('english'))\n",
    "\n",
    "def preprocess_text(text):\n",
    "    # Tokenize, remove stopwords, and stem\n",
    "    tokens = word_tokenize(text)\n",
    "    tokens = [word for word in tokens if word.lower() not in stop_words]\n",
    "    stemmed = [stemmer.stem(word.lower()) for word in tokens]\n",
    "    return ' '.join(stemmed)\n"
   ]
  },
  {
   "cell_type": "code",
   "execution_count": null,
   "id": "1f83ba7f",
   "metadata": {
    "id": "1f83ba7f"
   },
   "outputs": [],
   "source": [
    "from sklearn.metrics import accuracy_score, confusion_matrix"
   ]
  },
  {
   "cell_type": "code",
   "execution_count": null,
   "id": "30ed6c18",
   "metadata": {
    "id": "30ed6c18"
   },
   "outputs": [],
   "source": [
    "# Preprocess the job descriptions\n",
    "data['ProcessedDescription'] = data['FullDescription'].apply(preprocess_text)"
   ]
  },
  {
   "cell_type": "code",
   "execution_count": null,
   "id": "2efc2299",
   "metadata": {
    "id": "2efc2299"
   },
   "outputs": [],
   "source": [
    "# Feature extraction\n",
    "vectorizer = TfidfVectorizer(stop_words='english')\n",
    "X = vectorizer.fit_transform(data['ProcessedDescription'])\n",
    "y = data['Target'].apply(lambda x: 1 if x == 'Above' else 0)  # Convert the target to a binary format"
   ]
  },
  {
   "cell_type": "code",
   "execution_count": null,
   "id": "6eb3af11",
   "metadata": {
    "id": "6eb3af11"
   },
   "outputs": [],
   "source": [
    "# Split the data into training and test sets\n",
    "X_train, X_test, y_train, y_test = train_test_split(X, y, test_size=0.2, stratify=y, random_state=42)"
   ]
  },
  {
   "cell_type": "code",
   "execution_count": null,
   "id": "76305111",
   "metadata": {
    "id": "76305111",
    "outputId": "b1ddc463-03f8-40bc-e770-862490e4f9b8"
   },
   "outputs": [
    {
     "data": {
      "text/html": [
       "<style>#sk-container-id-1 {\n",
       "  /* Definition of color scheme common for light and dark mode */\n",
       "  --sklearn-color-text: black;\n",
       "  --sklearn-color-line: gray;\n",
       "  /* Definition of color scheme for unfitted estimators */\n",
       "  --sklearn-color-unfitted-level-0: #fff5e6;\n",
       "  --sklearn-color-unfitted-level-1: #f6e4d2;\n",
       "  --sklearn-color-unfitted-level-2: #ffe0b3;\n",
       "  --sklearn-color-unfitted-level-3: chocolate;\n",
       "  /* Definition of color scheme for fitted estimators */\n",
       "  --sklearn-color-fitted-level-0: #f0f8ff;\n",
       "  --sklearn-color-fitted-level-1: #d4ebff;\n",
       "  --sklearn-color-fitted-level-2: #b3dbfd;\n",
       "  --sklearn-color-fitted-level-3: cornflowerblue;\n",
       "\n",
       "  /* Specific color for light theme */\n",
       "  --sklearn-color-text-on-default-background: var(--sg-text-color, var(--theme-code-foreground, var(--jp-content-font-color1, black)));\n",
       "  --sklearn-color-background: var(--sg-background-color, var(--theme-background, var(--jp-layout-color0, white)));\n",
       "  --sklearn-color-border-box: var(--sg-text-color, var(--theme-code-foreground, var(--jp-content-font-color1, black)));\n",
       "  --sklearn-color-icon: #696969;\n",
       "\n",
       "  @media (prefers-color-scheme: dark) {\n",
       "    /* Redefinition of color scheme for dark theme */\n",
       "    --sklearn-color-text-on-default-background: var(--sg-text-color, var(--theme-code-foreground, var(--jp-content-font-color1, white)));\n",
       "    --sklearn-color-background: var(--sg-background-color, var(--theme-background, var(--jp-layout-color0, #111)));\n",
       "    --sklearn-color-border-box: var(--sg-text-color, var(--theme-code-foreground, var(--jp-content-font-color1, white)));\n",
       "    --sklearn-color-icon: #878787;\n",
       "  }\n",
       "}\n",
       "\n",
       "#sk-container-id-1 {\n",
       "  color: var(--sklearn-color-text);\n",
       "}\n",
       "\n",
       "#sk-container-id-1 pre {\n",
       "  padding: 0;\n",
       "}\n",
       "\n",
       "#sk-container-id-1 input.sk-hidden--visually {\n",
       "  border: 0;\n",
       "  clip: rect(1px 1px 1px 1px);\n",
       "  clip: rect(1px, 1px, 1px, 1px);\n",
       "  height: 1px;\n",
       "  margin: -1px;\n",
       "  overflow: hidden;\n",
       "  padding: 0;\n",
       "  position: absolute;\n",
       "  width: 1px;\n",
       "}\n",
       "\n",
       "#sk-container-id-1 div.sk-dashed-wrapped {\n",
       "  border: 1px dashed var(--sklearn-color-line);\n",
       "  margin: 0 0.4em 0.5em 0.4em;\n",
       "  box-sizing: border-box;\n",
       "  padding-bottom: 0.4em;\n",
       "  background-color: var(--sklearn-color-background);\n",
       "}\n",
       "\n",
       "#sk-container-id-1 div.sk-container {\n",
       "  /* jupyter's `normalize.less` sets `[hidden] { display: none; }`\n",
       "     but bootstrap.min.css set `[hidden] { display: none !important; }`\n",
       "     so we also need the `!important` here to be able to override the\n",
       "     default hidden behavior on the sphinx rendered scikit-learn.org.\n",
       "     See: https://github.com/scikit-learn/scikit-learn/issues/21755 */\n",
       "  display: inline-block !important;\n",
       "  position: relative;\n",
       "}\n",
       "\n",
       "#sk-container-id-1 div.sk-text-repr-fallback {\n",
       "  display: none;\n",
       "}\n",
       "\n",
       "div.sk-parallel-item,\n",
       "div.sk-serial,\n",
       "div.sk-item {\n",
       "  /* draw centered vertical line to link estimators */\n",
       "  background-image: linear-gradient(var(--sklearn-color-text-on-default-background), var(--sklearn-color-text-on-default-background));\n",
       "  background-size: 2px 100%;\n",
       "  background-repeat: no-repeat;\n",
       "  background-position: center center;\n",
       "}\n",
       "\n",
       "/* Parallel-specific style estimator block */\n",
       "\n",
       "#sk-container-id-1 div.sk-parallel-item::after {\n",
       "  content: \"\";\n",
       "  width: 100%;\n",
       "  border-bottom: 2px solid var(--sklearn-color-text-on-default-background);\n",
       "  flex-grow: 1;\n",
       "}\n",
       "\n",
       "#sk-container-id-1 div.sk-parallel {\n",
       "  display: flex;\n",
       "  align-items: stretch;\n",
       "  justify-content: center;\n",
       "  background-color: var(--sklearn-color-background);\n",
       "  position: relative;\n",
       "}\n",
       "\n",
       "#sk-container-id-1 div.sk-parallel-item {\n",
       "  display: flex;\n",
       "  flex-direction: column;\n",
       "}\n",
       "\n",
       "#sk-container-id-1 div.sk-parallel-item:first-child::after {\n",
       "  align-self: flex-end;\n",
       "  width: 50%;\n",
       "}\n",
       "\n",
       "#sk-container-id-1 div.sk-parallel-item:last-child::after {\n",
       "  align-self: flex-start;\n",
       "  width: 50%;\n",
       "}\n",
       "\n",
       "#sk-container-id-1 div.sk-parallel-item:only-child::after {\n",
       "  width: 0;\n",
       "}\n",
       "\n",
       "/* Serial-specific style estimator block */\n",
       "\n",
       "#sk-container-id-1 div.sk-serial {\n",
       "  display: flex;\n",
       "  flex-direction: column;\n",
       "  align-items: center;\n",
       "  background-color: var(--sklearn-color-background);\n",
       "  padding-right: 1em;\n",
       "  padding-left: 1em;\n",
       "}\n",
       "\n",
       "\n",
       "/* Toggleable style: style used for estimator/Pipeline/ColumnTransformer box that is\n",
       "clickable and can be expanded/collapsed.\n",
       "- Pipeline and ColumnTransformer use this feature and define the default style\n",
       "- Estimators will overwrite some part of the style using the `sk-estimator` class\n",
       "*/\n",
       "\n",
       "/* Pipeline and ColumnTransformer style (default) */\n",
       "\n",
       "#sk-container-id-1 div.sk-toggleable {\n",
       "  /* Default theme specific background. It is overwritten whether we have a\n",
       "  specific estimator or a Pipeline/ColumnTransformer */\n",
       "  background-color: var(--sklearn-color-background);\n",
       "}\n",
       "\n",
       "/* Toggleable label */\n",
       "#sk-container-id-1 label.sk-toggleable__label {\n",
       "  cursor: pointer;\n",
       "  display: block;\n",
       "  width: 100%;\n",
       "  margin-bottom: 0;\n",
       "  padding: 0.5em;\n",
       "  box-sizing: border-box;\n",
       "  text-align: center;\n",
       "}\n",
       "\n",
       "#sk-container-id-1 label.sk-toggleable__label-arrow:before {\n",
       "  /* Arrow on the left of the label */\n",
       "  content: \"▸\";\n",
       "  float: left;\n",
       "  margin-right: 0.25em;\n",
       "  color: var(--sklearn-color-icon);\n",
       "}\n",
       "\n",
       "#sk-container-id-1 label.sk-toggleable__label-arrow:hover:before {\n",
       "  color: var(--sklearn-color-text);\n",
       "}\n",
       "\n",
       "/* Toggleable content - dropdown */\n",
       "\n",
       "#sk-container-id-1 div.sk-toggleable__content {\n",
       "  max-height: 0;\n",
       "  max-width: 0;\n",
       "  overflow: hidden;\n",
       "  text-align: left;\n",
       "  /* unfitted */\n",
       "  background-color: var(--sklearn-color-unfitted-level-0);\n",
       "}\n",
       "\n",
       "#sk-container-id-1 div.sk-toggleable__content.fitted {\n",
       "  /* fitted */\n",
       "  background-color: var(--sklearn-color-fitted-level-0);\n",
       "}\n",
       "\n",
       "#sk-container-id-1 div.sk-toggleable__content pre {\n",
       "  margin: 0.2em;\n",
       "  border-radius: 0.25em;\n",
       "  color: var(--sklearn-color-text);\n",
       "  /* unfitted */\n",
       "  background-color: var(--sklearn-color-unfitted-level-0);\n",
       "}\n",
       "\n",
       "#sk-container-id-1 div.sk-toggleable__content.fitted pre {\n",
       "  /* unfitted */\n",
       "  background-color: var(--sklearn-color-fitted-level-0);\n",
       "}\n",
       "\n",
       "#sk-container-id-1 input.sk-toggleable__control:checked~div.sk-toggleable__content {\n",
       "  /* Expand drop-down */\n",
       "  max-height: 200px;\n",
       "  max-width: 100%;\n",
       "  overflow: auto;\n",
       "}\n",
       "\n",
       "#sk-container-id-1 input.sk-toggleable__control:checked~label.sk-toggleable__label-arrow:before {\n",
       "  content: \"▾\";\n",
       "}\n",
       "\n",
       "/* Pipeline/ColumnTransformer-specific style */\n",
       "\n",
       "#sk-container-id-1 div.sk-label input.sk-toggleable__control:checked~label.sk-toggleable__label {\n",
       "  color: var(--sklearn-color-text);\n",
       "  background-color: var(--sklearn-color-unfitted-level-2);\n",
       "}\n",
       "\n",
       "#sk-container-id-1 div.sk-label.fitted input.sk-toggleable__control:checked~label.sk-toggleable__label {\n",
       "  background-color: var(--sklearn-color-fitted-level-2);\n",
       "}\n",
       "\n",
       "/* Estimator-specific style */\n",
       "\n",
       "/* Colorize estimator box */\n",
       "#sk-container-id-1 div.sk-estimator input.sk-toggleable__control:checked~label.sk-toggleable__label {\n",
       "  /* unfitted */\n",
       "  background-color: var(--sklearn-color-unfitted-level-2);\n",
       "}\n",
       "\n",
       "#sk-container-id-1 div.sk-estimator.fitted input.sk-toggleable__control:checked~label.sk-toggleable__label {\n",
       "  /* fitted */\n",
       "  background-color: var(--sklearn-color-fitted-level-2);\n",
       "}\n",
       "\n",
       "#sk-container-id-1 div.sk-label label.sk-toggleable__label,\n",
       "#sk-container-id-1 div.sk-label label {\n",
       "  /* The background is the default theme color */\n",
       "  color: var(--sklearn-color-text-on-default-background);\n",
       "}\n",
       "\n",
       "/* On hover, darken the color of the background */\n",
       "#sk-container-id-1 div.sk-label:hover label.sk-toggleable__label {\n",
       "  color: var(--sklearn-color-text);\n",
       "  background-color: var(--sklearn-color-unfitted-level-2);\n",
       "}\n",
       "\n",
       "/* Label box, darken color on hover, fitted */\n",
       "#sk-container-id-1 div.sk-label.fitted:hover label.sk-toggleable__label.fitted {\n",
       "  color: var(--sklearn-color-text);\n",
       "  background-color: var(--sklearn-color-fitted-level-2);\n",
       "}\n",
       "\n",
       "/* Estimator label */\n",
       "\n",
       "#sk-container-id-1 div.sk-label label {\n",
       "  font-family: monospace;\n",
       "  font-weight: bold;\n",
       "  display: inline-block;\n",
       "  line-height: 1.2em;\n",
       "}\n",
       "\n",
       "#sk-container-id-1 div.sk-label-container {\n",
       "  text-align: center;\n",
       "}\n",
       "\n",
       "/* Estimator-specific */\n",
       "#sk-container-id-1 div.sk-estimator {\n",
       "  font-family: monospace;\n",
       "  border: 1px dotted var(--sklearn-color-border-box);\n",
       "  border-radius: 0.25em;\n",
       "  box-sizing: border-box;\n",
       "  margin-bottom: 0.5em;\n",
       "  /* unfitted */\n",
       "  background-color: var(--sklearn-color-unfitted-level-0);\n",
       "}\n",
       "\n",
       "#sk-container-id-1 div.sk-estimator.fitted {\n",
       "  /* fitted */\n",
       "  background-color: var(--sklearn-color-fitted-level-0);\n",
       "}\n",
       "\n",
       "/* on hover */\n",
       "#sk-container-id-1 div.sk-estimator:hover {\n",
       "  /* unfitted */\n",
       "  background-color: var(--sklearn-color-unfitted-level-2);\n",
       "}\n",
       "\n",
       "#sk-container-id-1 div.sk-estimator.fitted:hover {\n",
       "  /* fitted */\n",
       "  background-color: var(--sklearn-color-fitted-level-2);\n",
       "}\n",
       "\n",
       "/* Specification for estimator info (e.g. \"i\" and \"?\") */\n",
       "\n",
       "/* Common style for \"i\" and \"?\" */\n",
       "\n",
       ".sk-estimator-doc-link,\n",
       "a:link.sk-estimator-doc-link,\n",
       "a:visited.sk-estimator-doc-link {\n",
       "  float: right;\n",
       "  font-size: smaller;\n",
       "  line-height: 1em;\n",
       "  font-family: monospace;\n",
       "  background-color: var(--sklearn-color-background);\n",
       "  border-radius: 1em;\n",
       "  height: 1em;\n",
       "  width: 1em;\n",
       "  text-decoration: none !important;\n",
       "  margin-left: 1ex;\n",
       "  /* unfitted */\n",
       "  border: var(--sklearn-color-unfitted-level-1) 1pt solid;\n",
       "  color: var(--sklearn-color-unfitted-level-1);\n",
       "}\n",
       "\n",
       ".sk-estimator-doc-link.fitted,\n",
       "a:link.sk-estimator-doc-link.fitted,\n",
       "a:visited.sk-estimator-doc-link.fitted {\n",
       "  /* fitted */\n",
       "  border: var(--sklearn-color-fitted-level-1) 1pt solid;\n",
       "  color: var(--sklearn-color-fitted-level-1);\n",
       "}\n",
       "\n",
       "/* On hover */\n",
       "div.sk-estimator:hover .sk-estimator-doc-link:hover,\n",
       ".sk-estimator-doc-link:hover,\n",
       "div.sk-label-container:hover .sk-estimator-doc-link:hover,\n",
       ".sk-estimator-doc-link:hover {\n",
       "  /* unfitted */\n",
       "  background-color: var(--sklearn-color-unfitted-level-3);\n",
       "  color: var(--sklearn-color-background);\n",
       "  text-decoration: none;\n",
       "}\n",
       "\n",
       "div.sk-estimator.fitted:hover .sk-estimator-doc-link.fitted:hover,\n",
       ".sk-estimator-doc-link.fitted:hover,\n",
       "div.sk-label-container:hover .sk-estimator-doc-link.fitted:hover,\n",
       ".sk-estimator-doc-link.fitted:hover {\n",
       "  /* fitted */\n",
       "  background-color: var(--sklearn-color-fitted-level-3);\n",
       "  color: var(--sklearn-color-background);\n",
       "  text-decoration: none;\n",
       "}\n",
       "\n",
       "/* Span, style for the box shown on hovering the info icon */\n",
       ".sk-estimator-doc-link span {\n",
       "  display: none;\n",
       "  z-index: 9999;\n",
       "  position: relative;\n",
       "  font-weight: normal;\n",
       "  right: .2ex;\n",
       "  padding: .5ex;\n",
       "  margin: .5ex;\n",
       "  width: min-content;\n",
       "  min-width: 20ex;\n",
       "  max-width: 50ex;\n",
       "  color: var(--sklearn-color-text);\n",
       "  box-shadow: 2pt 2pt 4pt #999;\n",
       "  /* unfitted */\n",
       "  background: var(--sklearn-color-unfitted-level-0);\n",
       "  border: .5pt solid var(--sklearn-color-unfitted-level-3);\n",
       "}\n",
       "\n",
       ".sk-estimator-doc-link.fitted span {\n",
       "  /* fitted */\n",
       "  background: var(--sklearn-color-fitted-level-0);\n",
       "  border: var(--sklearn-color-fitted-level-3);\n",
       "}\n",
       "\n",
       ".sk-estimator-doc-link:hover span {\n",
       "  display: block;\n",
       "}\n",
       "\n",
       "/* \"?\"-specific style due to the `<a>` HTML tag */\n",
       "\n",
       "#sk-container-id-1 a.estimator_doc_link {\n",
       "  float: right;\n",
       "  font-size: 1rem;\n",
       "  line-height: 1em;\n",
       "  font-family: monospace;\n",
       "  background-color: var(--sklearn-color-background);\n",
       "  border-radius: 1rem;\n",
       "  height: 1rem;\n",
       "  width: 1rem;\n",
       "  text-decoration: none;\n",
       "  /* unfitted */\n",
       "  color: var(--sklearn-color-unfitted-level-1);\n",
       "  border: var(--sklearn-color-unfitted-level-1) 1pt solid;\n",
       "}\n",
       "\n",
       "#sk-container-id-1 a.estimator_doc_link.fitted {\n",
       "  /* fitted */\n",
       "  border: var(--sklearn-color-fitted-level-1) 1pt solid;\n",
       "  color: var(--sklearn-color-fitted-level-1);\n",
       "}\n",
       "\n",
       "/* On hover */\n",
       "#sk-container-id-1 a.estimator_doc_link:hover {\n",
       "  /* unfitted */\n",
       "  background-color: var(--sklearn-color-unfitted-level-3);\n",
       "  color: var(--sklearn-color-background);\n",
       "  text-decoration: none;\n",
       "}\n",
       "\n",
       "#sk-container-id-1 a.estimator_doc_link.fitted:hover {\n",
       "  /* fitted */\n",
       "  background-color: var(--sklearn-color-fitted-level-3);\n",
       "}\n",
       "</style><div id=\"sk-container-id-1\" class=\"sk-top-container\"><div class=\"sk-text-repr-fallback\"><pre>MultinomialNB()</pre><b>In a Jupyter environment, please rerun this cell to show the HTML representation or trust the notebook. <br />On GitHub, the HTML representation is unable to render, please try loading this page with nbviewer.org.</b></div><div class=\"sk-container\" hidden><div class=\"sk-item\"><div class=\"sk-estimator fitted sk-toggleable\"><input class=\"sk-toggleable__control sk-hidden--visually\" id=\"sk-estimator-id-1\" type=\"checkbox\" checked><label for=\"sk-estimator-id-1\" class=\"sk-toggleable__label fitted sk-toggleable__label-arrow fitted\">&nbsp;&nbsp;MultinomialNB<a class=\"sk-estimator-doc-link fitted\" rel=\"noreferrer\" target=\"_blank\" href=\"https://scikit-learn.org/1.4/modules/generated/sklearn.naive_bayes.MultinomialNB.html\">?<span>Documentation for MultinomialNB</span></a><span class=\"sk-estimator-doc-link fitted\">i<span>Fitted</span></span></label><div class=\"sk-toggleable__content fitted\"><pre>MultinomialNB()</pre></div> </div></div></div></div>"
      ],
      "text/plain": [
       "MultinomialNB()"
      ]
     },
     "execution_count": 21,
     "metadata": {},
     "output_type": "execute_result"
    }
   ],
   "source": [
    "# Train the Naïve Bayes classifier\n",
    "model = MultinomialNB()\n",
    "model.fit(X_train, y_train)"
   ]
  },
  {
   "cell_type": "code",
   "execution_count": null,
   "id": "b2a16ba5",
   "metadata": {
    "id": "b2a16ba5"
   },
   "outputs": [],
   "source": [
    "# Evaluate the model\n",
    "y_pred = model.predict(X_test)\n",
    "accuracy = accuracy_score(y_test, y_pred)\n",
    "conf_matrix = confusion_matrix(y_test, y_pred)"
   ]
  },
  {
   "cell_type": "code",
   "execution_count": null,
   "id": "82087d75",
   "metadata": {
    "id": "82087d75",
    "outputId": "66ad93e3-2a2e-418e-f802-ca8c1df5389f"
   },
   "outputs": [
    {
     "name": "stdout",
     "output_type": "stream",
     "text": [
      "Accuracy: 0.742\n",
      "Confusion Matrix:\n",
      " [[371   0]\n",
      " [129   0]]\n"
     ]
    }
   ],
   "source": [
    "# Display accuracy and confusion matrix\n",
    "print(\"Accuracy:\", accuracy)\n",
    "print(\"Confusion Matrix:\\n\", conf_matrix)"
   ]
  },
  {
   "cell_type": "code",
   "execution_count": null,
   "id": "2c0a3059",
   "metadata": {
    "id": "2c0a3059"
   },
   "outputs": [],
   "source": [
    "# Identify indicative features (words)\n",
    "feature_names = vectorizer.get_feature_names_out()\n",
    "high_salary_indices = model.feature_log_prob_[1].argsort()[-10:]\n",
    "low_salary_indices = model.feature_log_prob_[0].argsort()[-10:]"
   ]
  },
  {
   "cell_type": "code",
   "execution_count": null,
   "id": "1633f2e3",
   "metadata": {
    "id": "1633f2e3",
    "outputId": "c522edea-f833-45f9-a658-4c468447ee78"
   },
   "outputs": [
    {
     "name": "stdout",
     "output_type": "stream",
     "text": [
      "Top 10 words indicative of high salary:\n",
      "design\n",
      "engin\n",
      "client\n",
      "team\n",
      "work\n",
      "experi\n",
      "busi\n",
      "project\n",
      "develop\n",
      "manag\n"
     ]
    }
   ],
   "source": [
    "# Print the top 10 indicative words for high salary and low salary\n",
    "print(\"Top 10 words indicative of high salary:\")\n",
    "for index in high_salary_indices:\n",
    "    print(feature_names[index])"
   ]
  },
  {
   "cell_type": "code",
   "execution_count": null,
   "id": "9b393671",
   "metadata": {
    "id": "9b393671",
    "outputId": "fac70501-7b6d-4c6e-eaa7-097b7016a528"
   },
   "outputs": [
    {
     "name": "stdout",
     "output_type": "stream",
     "text": [
      "\n",
      "Top 10 words indicative of low salary:\n",
      "busi\n",
      "custom\n",
      "client\n",
      "servic\n",
      "role\n",
      "develop\n",
      "experi\n",
      "sale\n",
      "work\n",
      "manag\n"
     ]
    }
   ],
   "source": [
    "print(\"\\nTop 10 words indicative of low salary:\")\n",
    "for index in low_salary_indices:\n",
    "    print(feature_names[index])"
   ]
  },
  {
   "cell_type": "code",
   "execution_count": null,
   "id": "e8374fe3",
   "metadata": {
    "id": "e8374fe3",
    "outputId": "96f9a691-3bfd-43de-fa42-9dd7170a3302"
   },
   "outputs": [
    {
     "data": {
      "image/png": "[encoded data removed]",
      "text/plain": [
       "<Figure size 800x600 with 2 Axes>"
      ]
     },
     "metadata": {},
     "output_type": "display_data"
    }
   ],
   "source": [
    "from sklearn.metrics import confusion_matrix\n",
    "\n",
    "# Create a confusion matrix\n",
    "conf_mat = confusion_matrix(y_test, y_pred)\n",
    "\n",
    "# Plot the confusion matrix\n",
    "fig, ax = plt.subplots(figsize=(8, 6))\n",
    "sns.heatmap(conf_mat, annot=True, fmt='d', cmap='Blues', ax=ax)\n",
    "ax.set_xlabel('Predicted Labels')\n",
    "ax.set_ylabel('True Labels')\n",
    "ax.set_title('Confusion Matrix')\n",
    "ax.xaxis.set_ticklabels(['Low Salary', 'High Salary'])\n",
    "ax.yaxis.set_ticklabels(['Low Salary', 'High Salary'])\n",
    "plt.show()"
   ]
  },
  {
   "cell_type": "code",
   "execution_count": null,
   "id": "a2651474",
   "metadata": {
    "id": "a2651474",
    "outputId": "90e9d9ca-576a-44b4-8988-91085f87f519"
   },
   "outputs": [
    {
     "name": "stdout",
     "output_type": "stream",
     "text": [
      "\n",
      "Classification Report:\n",
      "               precision    recall  f1-score   support\n",
      "\n",
      "  Low Salary       0.74      1.00      0.85       371\n",
      " High Salary       0.00      0.00      0.00       129\n",
      "\n",
      "    accuracy                           0.74       500\n",
      "   macro avg       0.37      0.50      0.43       500\n",
      "weighted avg       0.55      0.74      0.63       500\n",
      "\n"
     ]
    },
    {
     "name": "stderr",
     "output_type": "stream",
     "text": [
      "C:\\Users\\mehri\\ana\\lib\\site-packages\\sklearn\\metrics\\_classification.py:1509: UndefinedMetricWarning: Precision is ill-defined and being set to 0.0 in labels with no predicted samples. Use `zero_division` parameter to control this behavior.\n",
      "  _warn_prf(average, modifier, f\"{metric.capitalize()} is\", len(result))\n",
      "C:\\Users\\mehri\\ana\\lib\\site-packages\\sklearn\\metrics\\_classification.py:1509: UndefinedMetricWarning: Precision is ill-defined and being set to 0.0 in labels with no predicted samples. Use `zero_division` parameter to control this behavior.\n",
      "  _warn_prf(average, modifier, f\"{metric.capitalize()} is\", len(result))\n",
      "C:\\Users\\mehri\\ana\\lib\\site-packages\\sklearn\\metrics\\_classification.py:1509: UndefinedMetricWarning: Precision is ill-defined and being set to 0.0 in labels with no predicted samples. Use `zero_division` parameter to control this behavior.\n",
      "  _warn_prf(average, modifier, f\"{metric.capitalize()} is\", len(result))\n"
     ]
    }
   ],
   "source": [
    "from sklearn.metrics import classification_report\n",
    "\n",
    "#'y_test' are the true labels and 'y_pred' are the predicted labels from the classifier\n",
    "report = classification_report(y_test, y_pred, target_names=['Low Salary', 'High Salary'])\n",
    "\n",
    "print(\"\\nClassification Report:\\n\", report)"
   ]
  },
  {
   "cell_type": "code",
   "execution_count": null,
   "id": "7d1cf4c7",
   "metadata": {
    "id": "7d1cf4c7",
    "outputId": "209d8459-a1d8-4dcf-cc62-e7d0120131c3"
   },
   "outputs": [
    {
     "data": {
      "image/png": "[encoded data removed]",
      "text/plain": [
       "<Figure size 1500x600 with 2 Axes>"
      ]
     },
     "metadata": {},
     "output_type": "display_data"
    }
   ],
   "source": [
    "# For the visualization, we need the feature log probabilities for the words:\n",
    "high_salary_log_probs = model.feature_log_prob_[1, high_salary_indices]\n",
    "low_salary_log_probs = model.feature_log_prob_[0, low_salary_indices]\n",
    "\n",
    "# Get the words for high and low salaries\n",
    "high_salary_words = [feature_names[i] for i in high_salary_indices]\n",
    "low_salary_words = [feature_names[i] for i in low_salary_indices]\n",
    "\n",
    "# Set up the figure size and subplots\n",
    "plt.figure(figsize=(15, 6))\n",
    "\n",
    "# High salary words plot\n",
    "plt.subplot(1, 2, 1)\n",
    "plt.barh(high_salary_words, np.exp(high_salary_log_probs))\n",
    "plt.xlabel('Probability')\n",
    "plt.title('Top 10 Words Indicative of High Salary')\n",
    "plt.gca().invert_yaxis()  # Invert y-axis to have the highest probability on top\n",
    "\n",
    "# Low salary words plot\n",
    "plt.subplot(1, 2, 2)\n",
    "plt.barh(low_salary_words, np.exp(low_salary_log_probs))\n",
    "plt.xlabel('Probability')\n",
    "plt.title('Top 10 Words Indicative of Low Salary')\n",
    "plt.gca().invert_yaxis()\n",
    "\n",
    "# Show plot with tight layout\n",
    "plt.tight_layout()\n",
    "plt.show()"
   ]
  },
  {
   "cell_type": "markdown",
   "id": "d00425dd",
   "metadata": {
    "id": "d00425dd"
   },
   "source": [
    "### II. Enhancing Model Accuracy: Strategies for Improving Classification Performance"
   ]
  },
  {
   "cell_type": "markdown",
   "id": "231e57db",
   "metadata": {
    "id": "231e57db"
   },
   "source": [
    "To further enhance the accuracy of the model, we can explore additional strategies and considerations:\n",
    "\n",
    "1. **Feature engineering**: Besides the existing text preprocessing techniques, we can delve deeper into feature engineering. This involves extracting more meaningful features from the text data, such as word embeddings or word frequencies, which can provide richer representations of the job descriptions.\n",
    "\n",
    "2. **Model selection**: While Naive Bayes is a popular choice for text classification tasks, it's beneficial to experiment with other algorithms such as Support Vector Machines (SVM), Random Forests, or Gradient Boosting Machines (GBM). Each algorithm has its strengths and weaknesses, and finding the most suitable one for our specific dataset can lead to improved accuracy.\n",
    "\n",
    "3. **Hyperparameter tuning**: Optimizing the hyperparameters of the chosen algorithm can significantly impact the model's performance. Techniques like grid search or randomized search can help us find the best combination of hyperparameters, resulting in better accuracy.\n",
    "\n",
    "4. **Ensemble/Stacked methods**: Combining multiple models using ensemble techniques like bagging (e.g., Random Forest) or boosting (e.g., AdaBoost, XGBoost) can often lead to higher accuracy than using a single model. Ensemble methods leverage the diversity of multiple models to make more accurate predictions.\n",
    "\n",
    "5. **Cross-validation**: Utilizing cross-validation techniques such as k-fold cross-validation ensures that the model's performance is robust and generalizable. By evaluating the model on different subsets of the data, we can obtain a more accurate estimate of its performance and identify any potential overfitting issues.\n",
    "\n",
    "6. **Error analysis**: Conducting thorough error analysis can provide valuable insights into the shortcomings of the model. By examining misclassified instances, we can identify patterns or common themes that the model struggles with and take corrective actions, such as refining the feature engineering process or addressing class imbalances.\n",
    "\n",
    "By incorporating these strategies and conducting comprehensive experimentation, we can iteratively improve the accuracy of the classification model and optimize its performance for predicting job salaries based on text data."
   ]
  },
  {
   "cell_type": "markdown",
   "id": "3b8672ab",
   "metadata": {
    "id": "3b8672ab"
   },
   "source": [
    "### Reflective Learning"
   ]
  },
  {
   "cell_type": "markdown",
   "id": "f4292714",
   "metadata": {
    "id": "f4292714"
   },
   "source": [
    "Throughout this assignment, I uncovered the complexities of text-based predictive modeling. I not only refined my understanding of machine learning principles but also gained practical, hands-on experience with data preprocessing, model tuning, and evaluation. The lessons learned have significantly enhanced my analytical journey and have provided me with invaluable insights into the challenges and considerations of building robust classification models.\n",
    "\n",
    "Kety Takeaways:\n",
    "\n",
    "- Mastered the art of data selection and preprocessing, learning the impact of quality data on model performance.\n",
    "  \n",
    "- Gained proficiency in feature engineering, applying how different text representation techniques like TF-IDF and word\n",
    "  \n",
    "- Learned to critically analyze model performance metrics, going beyond mere accuracy to consider precision, recall, and F1-score, ensuring a balanced perspective on model efficacy."
   ]
  }
 ],
 "metadata": {
  "colab": {
   "provenance": []
  },
  "kernelspec": {
   "display_name": "Python 3 (ipykernel)",
   "language": "python",
   "name": "python3"
  },
  "language_info": {
   "codemirror_mode": {
    "name": "ipython",
    "version": 3
   },
   "file_extension": ".py",
   "mimetype": "text/x-python",
   "name": "python",
   "nbconvert_exporter": "python",
   "pygments_lexer": "ipython3",
   "version": "3.10.9"
  }
 },
 "nbformat": 4,
 "nbformat_minor": 5
}
